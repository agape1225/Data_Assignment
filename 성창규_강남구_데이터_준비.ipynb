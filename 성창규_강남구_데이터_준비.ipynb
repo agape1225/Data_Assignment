{
  "nbformat": 4,
  "nbformat_minor": 0,
  "metadata": {
    "colab": {
      "provenance": [],
      "authorship_tag": "ABX9TyPKmywcmb/8x21X+pQDCMh+",
      "include_colab_link": true
    },
    "kernelspec": {
      "name": "python3",
      "display_name": "Python 3"
    },
    "language_info": {
      "name": "python"
    }
  },
  "cells": [
    {
      "cell_type": "markdown",
      "metadata": {
        "id": "view-in-github",
        "colab_type": "text"
      },
      "source": [
        "<a href=\"https://colab.research.google.com/github/agape1225/Data_Assignment/blob/main/%EC%84%B1%EC%B0%BD%EA%B7%9C_%EA%B0%95%EB%82%A8%EA%B5%AC_%EB%8D%B0%EC%9D%B4%ED%84%B0_%EC%A4%80%EB%B9%84.ipynb\" target=\"_parent\"><img src=\"https://colab.research.google.com/assets/colab-badge.svg\" alt=\"Open In Colab\"/></a>"
      ]
    },
    {
      "cell_type": "markdown",
      "source": [
        "데이터 파일 다운로드\n",
        "\n",
        "seoul_crime_statistics에 서울시의 월별 범죄 통계 데이터 프레임을 저장\n",
        "seoul_weather에 서울시의 월별 데이터 저장"
      ],
      "metadata": {
        "id": "LK-e8j1KN9v_"
      }
    },
    {
      "cell_type": "code",
      "source": [
        "import chardet\n",
        "\n",
        "with open('201_DT_201004_L030001_20230520021651.csv', mode='rb') as f:\n",
        "    d = f.readline()\n",
        "\n",
        "print(chardet.detect(d))"
      ],
      "metadata": {
        "id": "D5JCC4xWB451",
        "colab": {
          "base_uri": "https://localhost:8080/"
        },
        "outputId": "daf7675f-1785-471f-ca14-861b3a12b01f"
      },
      "execution_count": 15,
      "outputs": [
        {
          "output_type": "stream",
          "name": "stdout",
          "text": [
            "{'encoding': 'UTF-8-SIG', 'confidence': 1.0, 'language': ''}\n"
          ]
        }
      ]
    },
    {
      "cell_type": "code",
      "source": [
        "with open('201_DT_201004_L030001_20230520021651.csv', encoding='UTF-8-SIG') as f:\n",
        "    print(f.readline())\n",
        "    print(f.readline())"
      ],
      "metadata": {
        "colab": {
          "base_uri": "https://localhost:8080/"
        },
        "id": "Fp8svSo3OPM3",
        "outputId": "5963ec01-1938-49c2-e89c-9f9c0aec26fc"
      },
      "execution_count": 16,
      "outputs": [
        {
          "output_type": "stream",
          "name": "stdout",
          "text": [
            "\"자치구별\",\"범죄별\",\"항목\",\"단위\",\"2008. 01 월\",\"2008. 02 월\",\"2008. 03 월\",\"2008. 04 월\",\"2008. 05 월\",\"2008. 06 월\",\"2008. 07 월\",\"2008. 08 월\",\"2008. 09 월\",\"2008. 10 월\",\"2008. 11 월\",\"2008. 12 월\",\"2009. 01 월\",\"2009. 02 월\",\"2009. 03 월\",\"2009. 04 월\",\"2009. 05 월\",\"2009. 06 월\",\"2009. 07 월\",\"2009. 08 월\",\"2009. 09 월\",\"2009. 10 월\",\"2009. 11 월\",\"2009. 12 월\",\"2010. 01 월\",\"2010. 02 월\",\"2010. 03 월\",\"2010. 04 월\",\"2010. 05 월\",\"2010. 06 월\",\"2010. 07 월\",\"2010. 08 월\",\"2010. 09 월\",\"2010. 10 월\",\"2010. 11 월\",\"2010. 12 월\",\"2011. 01 월\",\"2011. 02 월\",\"2011. 03 월\",\"2011. 04 월\",\"2011. 05 월\",\"2011. 06 월\",\"2011. 07 월\",\"2011. 08 월\",\"2011. 09 월\",\"2011. 10 월\",\"2011. 11 월\",\"2011. 12 월\",\"2012. 01 월\",\"2012. 02 월\",\"2012. 03 월\",\"2012. 04 월\",\"2012. 05 월\",\"2012. 06 월\",\"2012. 07 월\",\"2012. 08 월\",\"2012. 09 월\",\"2012. 10 월\",\"2012. 11 월\",\"2012. 12 월\",\"2013. 01 월\",\"2013. 02 월\",\"2013. 03 월\",\"2013. 04 월\",\"2013. 05 월\",\"2013. 06 월\",\"2013. 07 월\",\"2013. 08 월\",\"2013. 09 월\",\"2013. 10 월\",\"2013. 11 월\",\"2013. 12 월\",\"2000 년\",\"2001 년\",\"2002 년\",\"2003 년\",\"2004 년\",\"2005 년\",\"2006 년\",\"2007 년\",\"2008 년\",\"2009 년\",\"2010 년\",\"2011 년\",\"2012 년\",\"2013 년\",\"2014 년\",\"2015 년\",\"2016 년\",\"2017 년\",\"2018 년\",\"2019 년\",\"2020 년\",\"2021 년\",\n",
            "\n",
            "\"합계\",\"합계\",\"발생\",\"\",\"7663\",\"6503\",\"8418\",\"8990\",\"9232\",\"10329\",\"9804\",\"8754\",\"10134\",\"9950\",\"8607\",\"9387\",\"7307\",\"7271\",\"9863\",\"9618\",\"11473\",\"11386\",\"11525\",\"9377\",\"11016\",\"9577\",\"9007\",\"8332\",\"6843\",\"6861\",\"9258\",\"9721\",\"11565\",\"11378\",\"11168\",\"11955\",\"11354\",\"11518\",\"11259\",\"11567\",\"9514\",\"9779\",\"14296\",\"9905\",\"11068\",\"11042\",\"12628\",\"12071\",\"10858\",\"10930\",\"10667\",\"10181\",\"9299\",\"8382\",\"9621\",\"10911\",\"12357\",\"12370\",\"13730\",\"13371\",\"11847\",\"13204\",\"11597\",\"11036\",\"10209\",\"8897\",\"9620\",\"10790\",\"11572\",\"12209\",\"12826\",\"12035\",\"11724\",\"12343\",\"10457\",\"10284\",\"136051\",\"154928\",\"147340\",\"144732\",\"121427\",\"113382\",\"104848\",\"108644\",\"107771\",\"115752\",\"124447\",\"132939\",\"137725\",\"132966\",\"130674\",\"126401\",\"117839\",\"107835\",\"101948\",\"103668\",\"92679\",\"80445\",\n",
            "\n"
          ]
        }
      ]
    },
    {
      "cell_type": "code",
      "source": [
        "import os\n",
        "import glob\n",
        "import unicodedata\n",
        "\n",
        "for filename in glob.glob('*.csv'):\n",
        "  nfc_filename = unicodedata.normalize('NFC', filename)\n",
        "  os.rename(filename, nfc_filename)"
      ],
      "metadata": {
        "id": "hFiHU1LbP_B6"
      },
      "execution_count": 17,
      "outputs": []
    },
    {
      "cell_type": "code",
      "source": [
        "import pandas as pd\n",
        "import csv\n",
        "\n",
        "seoul_crime_statistics = pd.read_csv('201_DT_201004_L030001_20230520021651.csv', encoding='utf-8-sig', low_memory=False, quoting=csv.QUOTE_NONE)"
      ],
      "metadata": {
        "id": "_OvzxNgDOcUv"
      },
      "execution_count": 22,
      "outputs": []
    },
    {
      "cell_type": "code",
      "source": [
        "seoul_crime_statistics.head()"
      ],
      "metadata": {
        "colab": {
          "base_uri": "https://localhost:8080/",
          "height": 438
        },
        "id": "XIU5ik8FPqlG",
        "outputId": "76577c3c-641a-417f-c509-3832d79af5df"
      },
      "execution_count": 23,
      "outputs": [
        {
          "output_type": "execute_result",
          "data": {
            "text/plain": [
              "  \"자치구별\" \"범죄별\"  \"항목\" \"단위\" \"2008. 01 월\" \"2008. 02 월\" \"2008. 03 월\" \"2008. 04 월\"  \\\n",
              "0   \"합계\"  \"합계\"  \"발생\"   \"\"       \"7663\"       \"6503\"       \"8418\"       \"8990\"   \n",
              "1   \"합계\"  \"합계\"  \"검거\"   \"\"       \"6761\"       \"5564\"       \"7491\"       \"7957\"   \n",
              "2   \"합계\"  \"살인\"  \"발생\"   \"\"         \"19\"          \"9\"         \"14\"         \"19\"   \n",
              "3   \"합계\"  \"살인\"  \"검거\"   \"\"         \"18\"          \"9\"         \"10\"         \"20\"   \n",
              "4   \"합계\"  \"강도\"  \"발생\"   \"\"         \"49\"         \"43\"         \"78\"        \"102\"   \n",
              "\n",
              "  \"2008. 05 월\" \"2008. 06 월\"  ...  \"2013 년\"  \"2014 년\"  \"2015 년\"  \"2016 년\"  \\\n",
              "0       \"9232\"      \"10329\"  ...  \"132966\"  \"130674\"  \"126401\"  \"117839\"   \n",
              "1       \"7894\"       \"8866\"  ...   \"79345\"   \"79061\"   \"82680\"   \"84421\"   \n",
              "2         \"23\"         \"19\"  ...     \"152\"     \"158\"     \"163\"     \"148\"   \n",
              "3         \"23\"         \"18\"  ...     \"146\"     \"152\"     \"156\"     \"147\"   \n",
              "4         \"79\"         \"95\"  ...     \"420\"     \"343\"     \"276\"     \"262\"   \n",
              "\n",
              "   \"2017 년\"  \"2018 년\"  \"2019 년\" \"2020 년\" \"2021 년\" Unnamed: 98  \n",
              "0  \"107835\"  \"101948\"  \"103668\"  \"92679\"  \"80445\"         NaN  \n",
              "1   \"79865\"   \"74487\"   \"74805\"  \"66548\"  \"58012\"         NaN  \n",
              "2     \"142\"     \"143\"     \"136\"    \"141\"    \"124\"         NaN  \n",
              "3     \"140\"     \"139\"     \"128\"    \"126\"    \"112\"         NaN  \n",
              "4     \"169\"     \"143\"     \"136\"    \"138\"    \"122\"         NaN  \n",
              "\n",
              "[5 rows x 99 columns]"
            ],
            "text/html": [
              "\n",
              "  <div id=\"df-afc35534-c99d-4c21-97f0-bd68819b5a97\">\n",
              "    <div class=\"colab-df-container\">\n",
              "      <div>\n",
              "<style scoped>\n",
              "    .dataframe tbody tr th:only-of-type {\n",
              "        vertical-align: middle;\n",
              "    }\n",
              "\n",
              "    .dataframe tbody tr th {\n",
              "        vertical-align: top;\n",
              "    }\n",
              "\n",
              "    .dataframe thead th {\n",
              "        text-align: right;\n",
              "    }\n",
              "</style>\n",
              "<table border=\"1\" class=\"dataframe\">\n",
              "  <thead>\n",
              "    <tr style=\"text-align: right;\">\n",
              "      <th></th>\n",
              "      <th>\"자치구별\"</th>\n",
              "      <th>\"범죄별\"</th>\n",
              "      <th>\"항목\"</th>\n",
              "      <th>\"단위\"</th>\n",
              "      <th>\"2008. 01 월\"</th>\n",
              "      <th>\"2008. 02 월\"</th>\n",
              "      <th>\"2008. 03 월\"</th>\n",
              "      <th>\"2008. 04 월\"</th>\n",
              "      <th>\"2008. 05 월\"</th>\n",
              "      <th>\"2008. 06 월\"</th>\n",
              "      <th>...</th>\n",
              "      <th>\"2013 년\"</th>\n",
              "      <th>\"2014 년\"</th>\n",
              "      <th>\"2015 년\"</th>\n",
              "      <th>\"2016 년\"</th>\n",
              "      <th>\"2017 년\"</th>\n",
              "      <th>\"2018 년\"</th>\n",
              "      <th>\"2019 년\"</th>\n",
              "      <th>\"2020 년\"</th>\n",
              "      <th>\"2021 년\"</th>\n",
              "      <th>Unnamed: 98</th>\n",
              "    </tr>\n",
              "  </thead>\n",
              "  <tbody>\n",
              "    <tr>\n",
              "      <th>0</th>\n",
              "      <td>\"합계\"</td>\n",
              "      <td>\"합계\"</td>\n",
              "      <td>\"발생\"</td>\n",
              "      <td>\"\"</td>\n",
              "      <td>\"7663\"</td>\n",
              "      <td>\"6503\"</td>\n",
              "      <td>\"8418\"</td>\n",
              "      <td>\"8990\"</td>\n",
              "      <td>\"9232\"</td>\n",
              "      <td>\"10329\"</td>\n",
              "      <td>...</td>\n",
              "      <td>\"132966\"</td>\n",
              "      <td>\"130674\"</td>\n",
              "      <td>\"126401\"</td>\n",
              "      <td>\"117839\"</td>\n",
              "      <td>\"107835\"</td>\n",
              "      <td>\"101948\"</td>\n",
              "      <td>\"103668\"</td>\n",
              "      <td>\"92679\"</td>\n",
              "      <td>\"80445\"</td>\n",
              "      <td>NaN</td>\n",
              "    </tr>\n",
              "    <tr>\n",
              "      <th>1</th>\n",
              "      <td>\"합계\"</td>\n",
              "      <td>\"합계\"</td>\n",
              "      <td>\"검거\"</td>\n",
              "      <td>\"\"</td>\n",
              "      <td>\"6761\"</td>\n",
              "      <td>\"5564\"</td>\n",
              "      <td>\"7491\"</td>\n",
              "      <td>\"7957\"</td>\n",
              "      <td>\"7894\"</td>\n",
              "      <td>\"8866\"</td>\n",
              "      <td>...</td>\n",
              "      <td>\"79345\"</td>\n",
              "      <td>\"79061\"</td>\n",
              "      <td>\"82680\"</td>\n",
              "      <td>\"84421\"</td>\n",
              "      <td>\"79865\"</td>\n",
              "      <td>\"74487\"</td>\n",
              "      <td>\"74805\"</td>\n",
              "      <td>\"66548\"</td>\n",
              "      <td>\"58012\"</td>\n",
              "      <td>NaN</td>\n",
              "    </tr>\n",
              "    <tr>\n",
              "      <th>2</th>\n",
              "      <td>\"합계\"</td>\n",
              "      <td>\"살인\"</td>\n",
              "      <td>\"발생\"</td>\n",
              "      <td>\"\"</td>\n",
              "      <td>\"19\"</td>\n",
              "      <td>\"9\"</td>\n",
              "      <td>\"14\"</td>\n",
              "      <td>\"19\"</td>\n",
              "      <td>\"23\"</td>\n",
              "      <td>\"19\"</td>\n",
              "      <td>...</td>\n",
              "      <td>\"152\"</td>\n",
              "      <td>\"158\"</td>\n",
              "      <td>\"163\"</td>\n",
              "      <td>\"148\"</td>\n",
              "      <td>\"142\"</td>\n",
              "      <td>\"143\"</td>\n",
              "      <td>\"136\"</td>\n",
              "      <td>\"141\"</td>\n",
              "      <td>\"124\"</td>\n",
              "      <td>NaN</td>\n",
              "    </tr>\n",
              "    <tr>\n",
              "      <th>3</th>\n",
              "      <td>\"합계\"</td>\n",
              "      <td>\"살인\"</td>\n",
              "      <td>\"검거\"</td>\n",
              "      <td>\"\"</td>\n",
              "      <td>\"18\"</td>\n",
              "      <td>\"9\"</td>\n",
              "      <td>\"10\"</td>\n",
              "      <td>\"20\"</td>\n",
              "      <td>\"23\"</td>\n",
              "      <td>\"18\"</td>\n",
              "      <td>...</td>\n",
              "      <td>\"146\"</td>\n",
              "      <td>\"152\"</td>\n",
              "      <td>\"156\"</td>\n",
              "      <td>\"147\"</td>\n",
              "      <td>\"140\"</td>\n",
              "      <td>\"139\"</td>\n",
              "      <td>\"128\"</td>\n",
              "      <td>\"126\"</td>\n",
              "      <td>\"112\"</td>\n",
              "      <td>NaN</td>\n",
              "    </tr>\n",
              "    <tr>\n",
              "      <th>4</th>\n",
              "      <td>\"합계\"</td>\n",
              "      <td>\"강도\"</td>\n",
              "      <td>\"발생\"</td>\n",
              "      <td>\"\"</td>\n",
              "      <td>\"49\"</td>\n",
              "      <td>\"43\"</td>\n",
              "      <td>\"78\"</td>\n",
              "      <td>\"102\"</td>\n",
              "      <td>\"79\"</td>\n",
              "      <td>\"95\"</td>\n",
              "      <td>...</td>\n",
              "      <td>\"420\"</td>\n",
              "      <td>\"343\"</td>\n",
              "      <td>\"276\"</td>\n",
              "      <td>\"262\"</td>\n",
              "      <td>\"169\"</td>\n",
              "      <td>\"143\"</td>\n",
              "      <td>\"136\"</td>\n",
              "      <td>\"138\"</td>\n",
              "      <td>\"122\"</td>\n",
              "      <td>NaN</td>\n",
              "    </tr>\n",
              "  </tbody>\n",
              "</table>\n",
              "<p>5 rows × 99 columns</p>\n",
              "</div>\n",
              "      <button class=\"colab-df-convert\" onclick=\"convertToInteractive('df-afc35534-c99d-4c21-97f0-bd68819b5a97')\"\n",
              "              title=\"Convert this dataframe to an interactive table.\"\n",
              "              style=\"display:none;\">\n",
              "        \n",
              "  <svg xmlns=\"http://www.w3.org/2000/svg\" height=\"24px\"viewBox=\"0 0 24 24\"\n",
              "       width=\"24px\">\n",
              "    <path d=\"M0 0h24v24H0V0z\" fill=\"none\"/>\n",
              "    <path d=\"M18.56 5.44l.94 2.06.94-2.06 2.06-.94-2.06-.94-.94-2.06-.94 2.06-2.06.94zm-11 1L8.5 8.5l.94-2.06 2.06-.94-2.06-.94L8.5 2.5l-.94 2.06-2.06.94zm10 10l.94 2.06.94-2.06 2.06-.94-2.06-.94-.94-2.06-.94 2.06-2.06.94z\"/><path d=\"M17.41 7.96l-1.37-1.37c-.4-.4-.92-.59-1.43-.59-.52 0-1.04.2-1.43.59L10.3 9.45l-7.72 7.72c-.78.78-.78 2.05 0 2.83L4 21.41c.39.39.9.59 1.41.59.51 0 1.02-.2 1.41-.59l7.78-7.78 2.81-2.81c.8-.78.8-2.07 0-2.86zM5.41 20L4 18.59l7.72-7.72 1.47 1.35L5.41 20z\"/>\n",
              "  </svg>\n",
              "      </button>\n",
              "      \n",
              "  <style>\n",
              "    .colab-df-container {\n",
              "      display:flex;\n",
              "      flex-wrap:wrap;\n",
              "      gap: 12px;\n",
              "    }\n",
              "\n",
              "    .colab-df-convert {\n",
              "      background-color: #E8F0FE;\n",
              "      border: none;\n",
              "      border-radius: 50%;\n",
              "      cursor: pointer;\n",
              "      display: none;\n",
              "      fill: #1967D2;\n",
              "      height: 32px;\n",
              "      padding: 0 0 0 0;\n",
              "      width: 32px;\n",
              "    }\n",
              "\n",
              "    .colab-df-convert:hover {\n",
              "      background-color: #E2EBFA;\n",
              "      box-shadow: 0px 1px 2px rgba(60, 64, 67, 0.3), 0px 1px 3px 1px rgba(60, 64, 67, 0.15);\n",
              "      fill: #174EA6;\n",
              "    }\n",
              "\n",
              "    [theme=dark] .colab-df-convert {\n",
              "      background-color: #3B4455;\n",
              "      fill: #D2E3FC;\n",
              "    }\n",
              "\n",
              "    [theme=dark] .colab-df-convert:hover {\n",
              "      background-color: #434B5C;\n",
              "      box-shadow: 0px 1px 3px 1px rgba(0, 0, 0, 0.15);\n",
              "      filter: drop-shadow(0px 1px 2px rgba(0, 0, 0, 0.3));\n",
              "      fill: #FFFFFF;\n",
              "    }\n",
              "  </style>\n",
              "\n",
              "      <script>\n",
              "        const buttonEl =\n",
              "          document.querySelector('#df-afc35534-c99d-4c21-97f0-bd68819b5a97 button.colab-df-convert');\n",
              "        buttonEl.style.display =\n",
              "          google.colab.kernel.accessAllowed ? 'block' : 'none';\n",
              "\n",
              "        async function convertToInteractive(key) {\n",
              "          const element = document.querySelector('#df-afc35534-c99d-4c21-97f0-bd68819b5a97');\n",
              "          const dataTable =\n",
              "            await google.colab.kernel.invokeFunction('convertToInteractive',\n",
              "                                                     [key], {});\n",
              "          if (!dataTable) return;\n",
              "\n",
              "          const docLinkHtml = 'Like what you see? Visit the ' +\n",
              "            '<a target=\"_blank\" href=https://colab.research.google.com/notebooks/data_table.ipynb>data table notebook</a>'\n",
              "            + ' to learn more about interactive tables.';\n",
              "          element.innerHTML = '';\n",
              "          dataTable['output_type'] = 'display_data';\n",
              "          await google.colab.output.renderOutput(dataTable, element);\n",
              "          const docLink = document.createElement('div');\n",
              "          docLink.innerHTML = docLinkHtml;\n",
              "          element.appendChild(docLink);\n",
              "        }\n",
              "      </script>\n",
              "    </div>\n",
              "  </div>\n",
              "  "
            ]
          },
          "metadata": {},
          "execution_count": 23
        }
      ]
    },
    {
      "cell_type": "code",
      "source": [
        "with open('extremum_20230519173826.csv', mode='rb') as f:\n",
        "    d = f.readline()\n",
        "\n",
        "print(chardet.detect(d))"
      ],
      "metadata": {
        "colab": {
          "base_uri": "https://localhost:8080/"
        },
        "id": "J_3lett2Pcu9",
        "outputId": "d8a7fd0a-ebee-479d-88a5-25ea9ff4f31d"
      },
      "execution_count": 25,
      "outputs": [
        {
          "output_type": "stream",
          "name": "stdout",
          "text": [
            "{'encoding': 'ascii', 'confidence': 1.0, 'language': ''}\n"
          ]
        }
      ]
    },
    {
      "cell_type": "code",
      "source": [
        "seoul_weather = pd.read_csv('extremum_20230519173826.csv', encoding='ascii', low_memory=False)"
      ],
      "metadata": {
        "colab": {
          "base_uri": "https://localhost:8080/",
          "height": 233
        },
        "id": "hcUgd4ZiRQNh",
        "outputId": "70543e2e-4b4e-452c-be02-622ba92350cd"
      },
      "execution_count": 34,
      "outputs": [
        {
          "output_type": "error",
          "ename": "UnicodeDecodeError",
          "evalue": "ignored",
          "traceback": [
            "\u001b[0;31m---------------------------------------------------------------------------\u001b[0m",
            "\u001b[0;31mUnicodeDecodeError\u001b[0m                        Traceback (most recent call last)",
            "\u001b[0;32m<ipython-input-34-fcb567ed76e4>\u001b[0m in \u001b[0;36m<cell line: 1>\u001b[0;34m()\u001b[0m\n\u001b[0;32m----> 1\u001b[0;31m \u001b[0mseoul_weather\u001b[0m \u001b[0;34m=\u001b[0m \u001b[0mpd\u001b[0m\u001b[0;34m.\u001b[0m\u001b[0mread_csv\u001b[0m\u001b[0;34m(\u001b[0m\u001b[0;34m'extremum_20230519173826.csv'\u001b[0m\u001b[0;34m,\u001b[0m \u001b[0mencoding\u001b[0m\u001b[0;34m=\u001b[0m\u001b[0;34m'ascii'\u001b[0m\u001b[0;34m,\u001b[0m \u001b[0mlow_memory\u001b[0m\u001b[0;34m=\u001b[0m\u001b[0;32mFalse\u001b[0m\u001b[0;34m)\u001b[0m\u001b[0;34m\u001b[0m\u001b[0;34m\u001b[0m\u001b[0m\n\u001b[0m",
            "\u001b[0;32m/usr/local/lib/python3.10/dist-packages/pandas/util/_decorators.py\u001b[0m in \u001b[0;36mwrapper\u001b[0;34m(*args, **kwargs)\u001b[0m\n\u001b[1;32m    209\u001b[0m                 \u001b[0;32melse\u001b[0m\u001b[0;34m:\u001b[0m\u001b[0;34m\u001b[0m\u001b[0;34m\u001b[0m\u001b[0m\n\u001b[1;32m    210\u001b[0m                     \u001b[0mkwargs\u001b[0m\u001b[0;34m[\u001b[0m\u001b[0mnew_arg_name\u001b[0m\u001b[0;34m]\u001b[0m \u001b[0;34m=\u001b[0m \u001b[0mnew_arg_value\u001b[0m\u001b[0;34m\u001b[0m\u001b[0;34m\u001b[0m\u001b[0m\n\u001b[0;32m--> 211\u001b[0;31m             \u001b[0;32mreturn\u001b[0m \u001b[0mfunc\u001b[0m\u001b[0;34m(\u001b[0m\u001b[0;34m*\u001b[0m\u001b[0margs\u001b[0m\u001b[0;34m,\u001b[0m \u001b[0;34m**\u001b[0m\u001b[0mkwargs\u001b[0m\u001b[0;34m)\u001b[0m\u001b[0;34m\u001b[0m\u001b[0;34m\u001b[0m\u001b[0m\n\u001b[0m\u001b[1;32m    212\u001b[0m \u001b[0;34m\u001b[0m\u001b[0m\n\u001b[1;32m    213\u001b[0m         \u001b[0;32mreturn\u001b[0m \u001b[0mcast\u001b[0m\u001b[0;34m(\u001b[0m\u001b[0mF\u001b[0m\u001b[0;34m,\u001b[0m \u001b[0mwrapper\u001b[0m\u001b[0;34m)\u001b[0m\u001b[0;34m\u001b[0m\u001b[0;34m\u001b[0m\u001b[0m\n",
            "\u001b[0;32m/usr/local/lib/python3.10/dist-packages/pandas/util/_decorators.py\u001b[0m in \u001b[0;36mwrapper\u001b[0;34m(*args, **kwargs)\u001b[0m\n\u001b[1;32m    329\u001b[0m                     \u001b[0mstacklevel\u001b[0m\u001b[0;34m=\u001b[0m\u001b[0mfind_stack_level\u001b[0m\u001b[0;34m(\u001b[0m\u001b[0;34m)\u001b[0m\u001b[0;34m,\u001b[0m\u001b[0;34m\u001b[0m\u001b[0;34m\u001b[0m\u001b[0m\n\u001b[1;32m    330\u001b[0m                 )\n\u001b[0;32m--> 331\u001b[0;31m             \u001b[0;32mreturn\u001b[0m \u001b[0mfunc\u001b[0m\u001b[0;34m(\u001b[0m\u001b[0;34m*\u001b[0m\u001b[0margs\u001b[0m\u001b[0;34m,\u001b[0m \u001b[0;34m**\u001b[0m\u001b[0mkwargs\u001b[0m\u001b[0;34m)\u001b[0m\u001b[0;34m\u001b[0m\u001b[0;34m\u001b[0m\u001b[0m\n\u001b[0m\u001b[1;32m    332\u001b[0m \u001b[0;34m\u001b[0m\u001b[0m\n\u001b[1;32m    333\u001b[0m         \u001b[0;31m# error: \"Callable[[VarArg(Any), KwArg(Any)], Any]\" has no\u001b[0m\u001b[0;34m\u001b[0m\u001b[0;34m\u001b[0m\u001b[0m\n",
            "\u001b[0;32m/usr/local/lib/python3.10/dist-packages/pandas/io/parsers/readers.py\u001b[0m in \u001b[0;36mread_csv\u001b[0;34m(filepath_or_buffer, sep, delimiter, header, names, index_col, usecols, squeeze, prefix, mangle_dupe_cols, dtype, engine, converters, true_values, false_values, skipinitialspace, skiprows, skipfooter, nrows, na_values, keep_default_na, na_filter, verbose, skip_blank_lines, parse_dates, infer_datetime_format, keep_date_col, date_parser, dayfirst, cache_dates, iterator, chunksize, compression, thousands, decimal, lineterminator, quotechar, quoting, doublequote, escapechar, comment, encoding, encoding_errors, dialect, error_bad_lines, warn_bad_lines, on_bad_lines, delim_whitespace, low_memory, memory_map, float_precision, storage_options)\u001b[0m\n\u001b[1;32m    948\u001b[0m     \u001b[0mkwds\u001b[0m\u001b[0;34m.\u001b[0m\u001b[0mupdate\u001b[0m\u001b[0;34m(\u001b[0m\u001b[0mkwds_defaults\u001b[0m\u001b[0;34m)\u001b[0m\u001b[0;34m\u001b[0m\u001b[0;34m\u001b[0m\u001b[0m\n\u001b[1;32m    949\u001b[0m \u001b[0;34m\u001b[0m\u001b[0m\n\u001b[0;32m--> 950\u001b[0;31m     \u001b[0;32mreturn\u001b[0m \u001b[0m_read\u001b[0m\u001b[0;34m(\u001b[0m\u001b[0mfilepath_or_buffer\u001b[0m\u001b[0;34m,\u001b[0m \u001b[0mkwds\u001b[0m\u001b[0;34m)\u001b[0m\u001b[0;34m\u001b[0m\u001b[0;34m\u001b[0m\u001b[0m\n\u001b[0m\u001b[1;32m    951\u001b[0m \u001b[0;34m\u001b[0m\u001b[0m\n\u001b[1;32m    952\u001b[0m \u001b[0;34m\u001b[0m\u001b[0m\n",
            "\u001b[0;32m/usr/local/lib/python3.10/dist-packages/pandas/io/parsers/readers.py\u001b[0m in \u001b[0;36m_read\u001b[0;34m(filepath_or_buffer, kwds)\u001b[0m\n\u001b[1;32m    603\u001b[0m \u001b[0;34m\u001b[0m\u001b[0m\n\u001b[1;32m    604\u001b[0m     \u001b[0;31m# Create the parser.\u001b[0m\u001b[0;34m\u001b[0m\u001b[0;34m\u001b[0m\u001b[0m\n\u001b[0;32m--> 605\u001b[0;31m     \u001b[0mparser\u001b[0m \u001b[0;34m=\u001b[0m \u001b[0mTextFileReader\u001b[0m\u001b[0;34m(\u001b[0m\u001b[0mfilepath_or_buffer\u001b[0m\u001b[0;34m,\u001b[0m \u001b[0;34m**\u001b[0m\u001b[0mkwds\u001b[0m\u001b[0;34m)\u001b[0m\u001b[0;34m\u001b[0m\u001b[0;34m\u001b[0m\u001b[0m\n\u001b[0m\u001b[1;32m    606\u001b[0m \u001b[0;34m\u001b[0m\u001b[0m\n\u001b[1;32m    607\u001b[0m     \u001b[0;32mif\u001b[0m \u001b[0mchunksize\u001b[0m \u001b[0;32mor\u001b[0m \u001b[0miterator\u001b[0m\u001b[0;34m:\u001b[0m\u001b[0;34m\u001b[0m\u001b[0;34m\u001b[0m\u001b[0m\n",
            "\u001b[0;32m/usr/local/lib/python3.10/dist-packages/pandas/io/parsers/readers.py\u001b[0m in \u001b[0;36m__init__\u001b[0;34m(self, f, engine, **kwds)\u001b[0m\n\u001b[1;32m   1440\u001b[0m \u001b[0;34m\u001b[0m\u001b[0m\n\u001b[1;32m   1441\u001b[0m         \u001b[0mself\u001b[0m\u001b[0;34m.\u001b[0m\u001b[0mhandles\u001b[0m\u001b[0;34m:\u001b[0m \u001b[0mIOHandles\u001b[0m \u001b[0;34m|\u001b[0m \u001b[0;32mNone\u001b[0m \u001b[0;34m=\u001b[0m \u001b[0;32mNone\u001b[0m\u001b[0;34m\u001b[0m\u001b[0;34m\u001b[0m\u001b[0m\n\u001b[0;32m-> 1442\u001b[0;31m         \u001b[0mself\u001b[0m\u001b[0;34m.\u001b[0m\u001b[0m_engine\u001b[0m \u001b[0;34m=\u001b[0m \u001b[0mself\u001b[0m\u001b[0;34m.\u001b[0m\u001b[0m_make_engine\u001b[0m\u001b[0;34m(\u001b[0m\u001b[0mf\u001b[0m\u001b[0;34m,\u001b[0m \u001b[0mself\u001b[0m\u001b[0;34m.\u001b[0m\u001b[0mengine\u001b[0m\u001b[0;34m)\u001b[0m\u001b[0;34m\u001b[0m\u001b[0;34m\u001b[0m\u001b[0m\n\u001b[0m\u001b[1;32m   1443\u001b[0m \u001b[0;34m\u001b[0m\u001b[0m\n\u001b[1;32m   1444\u001b[0m     \u001b[0;32mdef\u001b[0m \u001b[0mclose\u001b[0m\u001b[0;34m(\u001b[0m\u001b[0mself\u001b[0m\u001b[0;34m)\u001b[0m \u001b[0;34m->\u001b[0m \u001b[0;32mNone\u001b[0m\u001b[0;34m:\u001b[0m\u001b[0;34m\u001b[0m\u001b[0;34m\u001b[0m\u001b[0m\n",
            "\u001b[0;32m/usr/local/lib/python3.10/dist-packages/pandas/io/parsers/readers.py\u001b[0m in \u001b[0;36m_make_engine\u001b[0;34m(self, f, engine)\u001b[0m\n\u001b[1;32m   1751\u001b[0m \u001b[0;34m\u001b[0m\u001b[0m\n\u001b[1;32m   1752\u001b[0m         \u001b[0;32mtry\u001b[0m\u001b[0;34m:\u001b[0m\u001b[0;34m\u001b[0m\u001b[0;34m\u001b[0m\u001b[0m\n\u001b[0;32m-> 1753\u001b[0;31m             \u001b[0;32mreturn\u001b[0m \u001b[0mmapping\u001b[0m\u001b[0;34m[\u001b[0m\u001b[0mengine\u001b[0m\u001b[0;34m]\u001b[0m\u001b[0;34m(\u001b[0m\u001b[0mf\u001b[0m\u001b[0;34m,\u001b[0m \u001b[0;34m**\u001b[0m\u001b[0mself\u001b[0m\u001b[0;34m.\u001b[0m\u001b[0moptions\u001b[0m\u001b[0;34m)\u001b[0m\u001b[0;34m\u001b[0m\u001b[0;34m\u001b[0m\u001b[0m\n\u001b[0m\u001b[1;32m   1754\u001b[0m         \u001b[0;32mexcept\u001b[0m \u001b[0mException\u001b[0m\u001b[0;34m:\u001b[0m\u001b[0;34m\u001b[0m\u001b[0;34m\u001b[0m\u001b[0m\n\u001b[1;32m   1755\u001b[0m             \u001b[0;32mif\u001b[0m \u001b[0mself\u001b[0m\u001b[0;34m.\u001b[0m\u001b[0mhandles\u001b[0m \u001b[0;32mis\u001b[0m \u001b[0;32mnot\u001b[0m \u001b[0;32mNone\u001b[0m\u001b[0;34m:\u001b[0m\u001b[0;34m\u001b[0m\u001b[0;34m\u001b[0m\u001b[0m\n",
            "\u001b[0;32m/usr/local/lib/python3.10/dist-packages/pandas/io/parsers/c_parser_wrapper.py\u001b[0m in \u001b[0;36m__init__\u001b[0;34m(self, src, **kwds)\u001b[0m\n\u001b[1;32m     77\u001b[0m \u001b[0;34m\u001b[0m\u001b[0m\n\u001b[1;32m     78\u001b[0m         \u001b[0mkwds\u001b[0m\u001b[0;34m[\u001b[0m\u001b[0;34m\"dtype\"\u001b[0m\u001b[0;34m]\u001b[0m \u001b[0;34m=\u001b[0m \u001b[0mensure_dtype_objs\u001b[0m\u001b[0;34m(\u001b[0m\u001b[0mkwds\u001b[0m\u001b[0;34m.\u001b[0m\u001b[0mget\u001b[0m\u001b[0;34m(\u001b[0m\u001b[0;34m\"dtype\"\u001b[0m\u001b[0;34m,\u001b[0m \u001b[0;32mNone\u001b[0m\u001b[0;34m)\u001b[0m\u001b[0;34m)\u001b[0m\u001b[0;34m\u001b[0m\u001b[0;34m\u001b[0m\u001b[0m\n\u001b[0;32m---> 79\u001b[0;31m         \u001b[0mself\u001b[0m\u001b[0;34m.\u001b[0m\u001b[0m_reader\u001b[0m \u001b[0;34m=\u001b[0m \u001b[0mparsers\u001b[0m\u001b[0;34m.\u001b[0m\u001b[0mTextReader\u001b[0m\u001b[0;34m(\u001b[0m\u001b[0msrc\u001b[0m\u001b[0;34m,\u001b[0m \u001b[0;34m**\u001b[0m\u001b[0mkwds\u001b[0m\u001b[0;34m)\u001b[0m\u001b[0;34m\u001b[0m\u001b[0;34m\u001b[0m\u001b[0m\n\u001b[0m\u001b[1;32m     80\u001b[0m \u001b[0;34m\u001b[0m\u001b[0m\n\u001b[1;32m     81\u001b[0m         \u001b[0mself\u001b[0m\u001b[0;34m.\u001b[0m\u001b[0munnamed_cols\u001b[0m \u001b[0;34m=\u001b[0m \u001b[0mself\u001b[0m\u001b[0;34m.\u001b[0m\u001b[0m_reader\u001b[0m\u001b[0;34m.\u001b[0m\u001b[0munnamed_cols\u001b[0m\u001b[0;34m\u001b[0m\u001b[0;34m\u001b[0m\u001b[0m\n",
            "\u001b[0;32m/usr/local/lib/python3.10/dist-packages/pandas/_libs/parsers.pyx\u001b[0m in \u001b[0;36mpandas._libs.parsers.TextReader.__cinit__\u001b[0;34m()\u001b[0m\n",
            "\u001b[0;32m/usr/local/lib/python3.10/dist-packages/pandas/_libs/parsers.pyx\u001b[0m in \u001b[0;36mpandas._libs.parsers.TextReader._get_header\u001b[0;34m()\u001b[0m\n",
            "\u001b[0;32m/usr/local/lib/python3.10/dist-packages/pandas/_libs/parsers.pyx\u001b[0m in \u001b[0;36mpandas._libs.parsers.TextReader._tokenize_rows\u001b[0;34m()\u001b[0m\n",
            "\u001b[0;32m/usr/local/lib/python3.10/dist-packages/pandas/_libs/parsers.pyx\u001b[0m in \u001b[0;36mpandas._libs.parsers.raise_parser_error\u001b[0;34m()\u001b[0m\n",
            "\u001b[0;31mUnicodeDecodeError\u001b[0m: 'ascii' codec can't decode byte 0xc1 in position 2: ordinal not in range(128)"
          ]
        }
      ]
    },
    {
      "cell_type": "code",
      "source": [],
      "metadata": {
        "id": "A9N8pfGISONE"
      },
      "execution_count": null,
      "outputs": []
    },
    {
      "cell_type": "code",
      "source": [],
      "metadata": {
        "id": "cOv6qItMSLg5"
      },
      "execution_count": null,
      "outputs": []
    },
    {
      "cell_type": "code",
      "source": [],
      "metadata": {
        "id": "jblhoQFNSDWN"
      },
      "execution_count": null,
      "outputs": []
    },
    {
      "cell_type": "code",
      "source": [],
      "metadata": {
        "id": "axf1CGBPR8sT"
      },
      "execution_count": null,
      "outputs": []
    },
    {
      "cell_type": "code",
      "source": [],
      "metadata": {
        "id": "7mz_yHqzR0eD"
      },
      "execution_count": null,
      "outputs": []
    },
    {
      "cell_type": "code",
      "source": [],
      "metadata": {
        "id": "wgBWQFB2RwOh"
      },
      "execution_count": null,
      "outputs": []
    },
    {
      "cell_type": "code",
      "source": [],
      "metadata": {
        "id": "D38MYhPqRlPJ"
      },
      "execution_count": null,
      "outputs": []
    },
    {
      "cell_type": "code",
      "source": [],
      "metadata": {
        "id": "8Zrw1vduRaLd"
      },
      "execution_count": null,
      "outputs": []
    },
    {
      "cell_type": "code",
      "source": [],
      "metadata": {
        "id": "MKLTUv-7RYHE"
      },
      "execution_count": null,
      "outputs": []
    },
    {
      "cell_type": "code",
      "source": [],
      "metadata": {
        "id": "BwoA0JJmROBb"
      },
      "execution_count": null,
      "outputs": []
    },
    {
      "cell_type": "code",
      "source": [],
      "metadata": {
        "id": "Y6qiPJODPZr5"
      },
      "execution_count": null,
      "outputs": []
    },
    {
      "cell_type": "code",
      "source": [],
      "metadata": {
        "id": "4BboaVhyPR7V"
      },
      "execution_count": null,
      "outputs": []
    },
    {
      "cell_type": "code",
      "source": [],
      "metadata": {
        "id": "hpltTAlyPMGz"
      },
      "execution_count": null,
      "outputs": []
    },
    {
      "cell_type": "code",
      "source": [],
      "metadata": {
        "id": "0n3JAyCOOtwc"
      },
      "execution_count": null,
      "outputs": []
    }
  ]
}